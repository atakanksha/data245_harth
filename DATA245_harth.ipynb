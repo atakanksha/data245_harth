{
 "cells": [
  {
   "cell_type": "markdown",
   "id": "af4515cb",
   "metadata": {
    "colab_type": "text",
    "id": "view-in-github"
   },
   "source": [
    "<a href=\"https://colab.research.google.com/github/atakanksha/data245_harth/blob/main/DATA245_harth.ipynb\" target=\"_parent\"><img src=\"https://colab.research.google.com/assets/colab-badge.svg\" alt=\"Open In Colab\"/></a>"
   ]
  },
  {
   "cell_type": "code",
   "execution_count": null,
   "id": "0JPiOOukHyeZ",
   "metadata": {
    "colab": {
     "base_uri": "https://localhost:8080/"
    },
    "id": "0JPiOOukHyeZ",
    "outputId": "c1e07c5e-1f80-4175-ab91-838239ddbc14"
   },
   "outputs": [],
   "source": [
    "!git clone https://github.com/atakanksha/data245_harth.git"
   ]
  },
  {
   "cell_type": "code",
   "execution_count": null,
   "id": "b189a190",
   "metadata": {
    "id": "b189a190"
   },
   "outputs": [],
   "source": [
    "import os\n",
    "import pandas as pd\n",
    "import numpy as np\n",
    "import matplotlib.pyplot as plt\n",
    "import seaborn as sns\n",
    "\n",
    "from sklearn import decomposition, manifold, preprocessing, model_selection\n",
    "\n",
    "sns.set_theme()"
   ]
  },
  {
   "cell_type": "markdown",
   "id": "4baa3e33",
   "metadata": {
    "id": "4baa3e33"
   },
   "source": [
    "### Parameters"
   ]
  },
  {
   "cell_type": "code",
   "execution_count": null,
   "id": "6e65666c",
   "metadata": {
    "id": "6e65666c"
   },
   "outputs": [],
   "source": [
    "test_size = 0.2\n",
    "train_size = 1 - test_size\n",
    "random_seed = 42\n",
    "\n",
    "class_code_to_class_name = {\n",
    "    1: 'walking',\n",
    "    2: 'running',\n",
    "    3: 'shuffling',\n",
    "    4: 'stairs (ascending)',\n",
    "    5: 'stairs (descending)',\n",
    "    6: 'standing',\n",
    "    7: 'sitting',\n",
    "    8: 'lying',\n",
    "    13: 'cycling (sit)',\n",
    "    14: 'cycling (stand)',\n",
    "    130: 'cycling (sit, inactive)',\n",
    "    140: 'cycling (stand, inactive)',\n",
    "}\n",
    "\n",
    "class_code_to_id = {}\n",
    "id_to_class_code = {}\n",
    "id_to_class_name = {}\n",
    "for i, code in enumerate(class_code_to_class_name.keys()):\n",
    "    class_code_to_id[code] = i\n",
    "    id_to_class_code[i] = code\n",
    "    id_to_class_name[i] = class_code_to_class_name[code]\n",
    "\n",
    "num_classes = len(class_code_to_id)"
   ]
  },
  {
   "cell_type": "code",
   "execution_count": null,
   "id": "0b249942",
   "metadata": {
    "colab": {
     "base_uri": "https://localhost:8080/"
    },
    "id": "0b249942",
    "outputId": "5a390402-dcba-4ce1-92da-0d1ee863efa3"
   },
   "outputs": [],
   "source": [
    "def remap_labels(y):\n",
    "    '''Converts class codes into consecutive ids.'''\n",
    "    remap_y = y.copy()\n",
    "    for class_code, class_id in class_code_to_id.items():\n",
    "        remap_y[y == class_code] = class_id\n",
    "    return remap_y\n",
    "\n",
    "X = np.load('./data245_harth/features.npy')\n",
    "y_orig = np.load('./data245_harth/labels.npy')\n",
    "y = remap_labels(y_orig)\n",
    "\n",
    "print(f'Number of classes: {num_classes}')\n",
    "print(f'Number of features: {X.shape[1]}')\n",
    "print(f'Number of samples: {X.shape[0]}')"
   ]
  },
  {
   "cell_type": "code",
   "execution_count": null,
   "id": "f5bf8623",
   "metadata": {
    "id": "f5bf8623"
   },
   "outputs": [],
   "source": [
    "def plot_class_distribution(y, ax, title):\n",
    "    labels, counts = np.unique(y, return_counts=True)\n",
    "    counts = counts / counts.sum()\n",
    "\n",
    "    ax.bar(labels, counts, align='center')\n",
    "    ax.set_xticks(list(id_to_class_name.keys()), list(id_to_class_name.values()), rotation=45, ha='right')\n",
    "    ax.set_title(title)"
   ]
  },
  {
   "cell_type": "markdown",
   "id": "04c5e447",
   "metadata": {
    "id": "04c5e447"
   },
   "source": [
    "### Create test set"
   ]
  },
  {
   "cell_type": "code",
   "execution_count": null,
   "id": "5de031a3",
   "metadata": {
    "id": "5de031a3",
    "outputId": "e5457a78-e93f-4d19-b443-84d7785f5ccb",
    "scrolled": false
   },
   "outputs": [],
   "source": [
    "X_train, X_test, y_train, y_test = model_selection.train_test_split(X,\n",
    "                                                                    y,\n",
    "                                                                    stratify=y,\n",
    "                                                                    test_size=test_size,\n",
    "                                                                    random_state=random_seed)\n",
    "print(f'Number of train samples: {X_train.shape[0]}')\n",
    "print(f'Number of test samples: {X_test.shape[0]}')\n",
    "\n",
    "fig = plt.figure(figsize=(15, 5), constrained_layout=True)\n",
    "gs = fig.add_gridspec(1,3)\n",
    "\n",
    "ax = fig.add_subplot(gs[0, 0])\n",
    "plot_class_distribution(y, ax, title='Whole dataset')\n",
    "\n",
    "ax = fig.add_subplot(gs[0, 1])\n",
    "plot_class_distribution(y_train, ax, title='Train dataset')\n",
    "\n",
    "ax = fig.add_subplot(gs[0,2])\n",
    "plot_class_distribution(y_test, ax, title='Test dataset')\n",
    "\n",
    "plt.suptitle('Distribution of classes')\n",
    "plt.show()\n",
    "plt.close()"
   ]
  },
  {
   "cell_type": "markdown",
   "id": "b827d871",
   "metadata": {
    "id": "b827d871"
   },
   "source": [
    "### PCA"
   ]
  },
  {
   "cell_type": "code",
   "execution_count": null,
   "id": "5f81bfe1",
   "metadata": {
    "id": "5f81bfe1"
   },
   "outputs": [],
   "source": [
    "def plot_pca(X_pca, y, n_components):\n",
    "    X_list = [X_pca[:, i] for i in range(n_components)]\n",
    "\n",
    "    if len(X_list) == 3:\n",
    "        ax = plt.axes(projection='3d')\n",
    "    else:\n",
    "        ax = plt.axes()\n",
    "    ax.scatter(*X_list, c=y)\n",
    "    ax.set_title(f'Distribution of data using PCA with {n_components = }')\n",
    "    plt.show()\n",
    "    plt.close()"
   ]
  },
  {
   "cell_type": "code",
   "execution_count": null,
   "id": "b0694c93",
   "metadata": {
    "id": "b0694c93",
    "outputId": "16201544-3d5d-4eeb-f055-590836d91da9"
   },
   "outputs": [],
   "source": [
    "scaler = preprocessing.StandardScaler()\n",
    "scaler.fit(X_train)\n",
    "X_train_norm = scaler.transform(X_train)\n",
    "X_test_norm = scaler.transform(X_test)\n",
    "\n",
    "pca = decomposition.PCA(n_components=2)\n",
    "pca.fit(X_train_norm)\n",
    "X_train_norm_pca = pca.transform(X_train_norm)\n",
    "X_test_norm_pca = pca.transform(X_test_norm)\n",
    "\n",
    "plot_pca(X_train_norm_pca, y_train, n_components=2)\n",
    "\n",
    "pca = decomposition.PCA(n_components=3)\n",
    "pca.fit(X_train_norm)\n",
    "X_train_norm_pca = pca.transform(X_train_norm)\n",
    "X_test_norm_pca = pca.transform(X_test_norm)\n",
    "plot_pca(X_train_norm_pca, y_train, n_components=3)"
   ]
  },
  {
   "cell_type": "code",
   "execution_count": null,
   "id": "4e543cec",
   "metadata": {
    "id": "4e543cec",
    "outputId": "bf9b548e-1439-4a5c-9997-79886d9999f4"
   },
   "outputs": [],
   "source": [
    "x_ticks = np.arange(pca.n_components_) + 1\n",
    "plt.plot(x_ticks, pca.explained_variance_ratio_, 'o-', linewidth=2, color='blue')\n",
    "plt.title('Scree Plot')\n",
    "plt.xlabel('Principal Component')\n",
    "plt.ylabel('Variance Explained')\n",
    "plt.show()"
   ]
  },
  {
   "cell_type": "code",
   "execution_count": null,
   "id": "fdc9b904",
   "metadata": {
    "id": "fdc9b904"
   },
   "outputs": [],
   "source": [
    "def compute_model_metrics(model, X, y_true):\n",
    "    y_pred = model.predict(X)\n",
    "\n",
    "    print(\"Confusion Matrix\")\n",
    "    confusion_matrix = metrics.confusion_matrix(y_true, y_pred)\n",
    "    plt.figure(figsize=(8, 8))\n",
    "    ax = sns.heatmap(confusion_matrix, cmap=\"crest\",  annot=True, fmt=\"d\", linewidths=.1)\n",
    "    xticks = [i + 0.5 for i in id_to_class_name.keys()]\n",
    "    ax.set_xticks(\n",
    "        xticks, list(id_to_class_name.values()), rotation=45, ha='right'\n",
    "    )\n",
    "    ax.set_yticks(\n",
    "        xticks, list(id_to_class_name.values()), rotation=0, va='top'\n",
    "    )\n",
    "    ax.set_ylabel(\"True label\")\n",
    "    ax.set_xlabel(\"Predicted label\")\n",
    "    plt.show()\n",
    "\n",
    "    report = metrics.classification_report(\n",
    "        y_true, y_pred, target_names=list(id_to_class_name.values()), digits=4\n",
    "    )\n",
    "    print(report)\n",
    "    test_acc = metrics.accuracy_score(y_true, y_pred)\n",
    "    print(f'Accuracy: {test_acc:.4f}')\n",
    "\n",
    "    test_precision = metrics.precision_score(y_true, y_pred, average='micro')\n",
    "    print(f'Micro Precision: {test_precision:.4f}')\n",
    "\n",
    "    test_recall = metrics.recall_score(y_true, y_pred, average='micro')\n",
    "    print(f'Micro Recall/TPR: {test_recall:.4f}')\n",
    "\n",
    "    test_f1 = metrics.f1_score(y_true, y_pred, average='micro')\n",
    "    print(f'Micro f1-score: {test_f1:.4f}')"
   ]
  },
  {
   "cell_type": "markdown",
   "id": "dc5709b1",
   "metadata": {
    "id": "dc5709b1"
   },
   "source": [
    "## XGBoost"
   ]
  },
  {
   "cell_type": "code",
   "execution_count": null,
   "id": "9b2a8a5d",
   "metadata": {
    "id": "9b2a8a5d",
    "outputId": "63eebb2b-5014-4a8c-8bad-1d9d22e56c40"
   },
   "outputs": [],
   "source": [
    "from sklearn.model_selection import GridSearchCV\n",
    "from sklearn import metrics\n",
    "from sklearn.metrics import accuracy_score, make_scorer\n",
    "from xgboost import XGBClassifier\n",
    "\n",
    "xgb_clf = XGBClassifier(\n",
    "    num_class=num_classes,\n",
    "    objective= 'multi:softmax',\n",
    "    nthread=4,\n",
    "    seed=42,\n",
    ")\n",
    "\n",
    "parameters = {\n",
    "    'max_depth': [6, 8, 10],\n",
    "    'n_estimators': [40, 50, 60],\n",
    "    'learning_rate': [0.1, 0.01]\n",
    "}\n",
    "\n",
    "grid_search = GridSearchCV(\n",
    "    xgb_clf, parameters, scoring=make_scorer(accuracy_score), cv=5, n_jobs=2, return_train_score=True\n",
    ")\n",
    "grid_search.fit(X_train_norm, y_train)\n",
    "print(f'Best training accuracy with 5-fold cross validation: {grid_search.best_score_}')\n",
    "print(f'Best parameters: \\n{grid_search.best_params_}')"
   ]
  },
  {
   "cell_type": "code",
   "execution_count": null,
   "id": "4dcfd330",
   "metadata": {
    "id": "4dcfd330",
    "outputId": "4a8a33ce-f25e-45c7-f036-ddaef4fc0c05"
   },
   "outputs": [],
   "source": [
    "best_xgb_model = grid_search.best_estimator_\n",
    "y_test_pred = best_xgb_model.predict(X_test_norm)\n",
    "acc = accuracy_score(y_test, y_test_pred)\n",
    "print(f'Best test accuracy after grid search: {acc:.4f}')"
   ]
  },
  {
   "cell_type": "code",
   "execution_count": null,
   "id": "85e5bf09",
   "metadata": {
    "id": "85e5bf09",
    "outputId": "bd208009-8ae7-4f61-af6e-6a41b047243c"
   },
   "outputs": [],
   "source": [
    "xgb_clf = XGBClassifier(\n",
    "    num_class=num_classes,\n",
    "    objective= 'multi:softmax',\n",
    "    learning_rate=0.1,\n",
    "    n_estimators=60,\n",
    "    max_depth=8,\n",
    "    nthread=4,\n",
    "    seed=42\n",
    ")\n",
    "\n",
    "xgb_clf.fit(X_train_norm, y_train)"
   ]
  },
  {
   "cell_type": "code",
   "execution_count": null,
   "id": "ac112227",
   "metadata": {
    "id": "ac112227",
    "outputId": "fa6a8878-b14b-4aa5-fd59-f3959a80917e"
   },
   "outputs": [],
   "source": [
    "compute_model_metrics(xgb_clf, X_test_norm, y_test)"
   ]
  },
  {
   "cell_type": "code",
   "execution_count": null,
   "id": "Hs9f9KlUGyDo",
   "metadata": {
    "id": "Hs9f9KlUGyDo"
   },
   "outputs": [],
   "source": []
  },
  {
   "cell_type": "markdown",
   "id": "jE5E4QCSGyDo",
   "metadata": {
    "id": "jE5E4QCSGyDo"
   },
   "source": [
    "## SVM"
   ]
  },
  {
   "cell_type": "code",
   "execution_count": null,
   "id": "Iw5bPkvxGyDo",
   "metadata": {
    "id": "Iw5bPkvxGyDo"
   },
   "outputs": [],
   "source": [
    "from sklearn.model_selection import GridSearchCV\n",
    "from sklearn.svm import SVC\n",
    "from sklearn import metrics\n",
    "from sklearn.metrics import accuracy_score, make_scorer\n",
    "\n",
    "# Normalize the features.\n",
    "scaler = preprocessing.StandardScaler()\n",
    "scaler.fit(X_train)\n",
    "X_train_norm = scaler.transform(X_train)\n",
    "X_test_norm = scaler.transform(X_test)"
   ]
  },
  {
   "cell_type": "code",
   "execution_count": null,
   "id": "08901e1c",
   "metadata": {},
   "outputs": [],
   "source": [
    "# Grid search.\n",
    "parameters = [\n",
    "    {\"kernel\": [\"rbf\"], \"gamma\": [1e-2, 1e-3, 1e-4], \"C\": [10, 100, 1000]},\n",
    "    {\"kernel\": [\"linear\"], \"C\": [1, 10]},\n",
    "]\n",
    "\n",
    "grid_search = GridSearchCV(\n",
    "    SVC(), parameters, scoring=make_scorer(accuracy_score), cv=5, n_jobs=2, return_train_score=True\n",
    ")\n",
    "grid_search.fit(X_train_norm, y_train)\n",
    "print(f'Best training accuracy with 5-fold cross validation: {grid_search.best_score_}')\n",
    "print(f'Best parameters: \\n{grid_search.best_params_}')"
   ]
  },
  {
   "cell_type": "code",
   "execution_count": null,
   "id": "73737289",
   "metadata": {},
   "outputs": [],
   "source": [
    "best_svc_model = grid_search.best_estimator_\n",
    "y_test_pred = best_svc_model.predict(X_test_norm)\n",
    "acc = accuracy_score(y_test, y_test_pred)\n",
    "print(f'Best test accuracy after grid search: {acc:.4f}')"
   ]
  },
  {
   "cell_type": "code",
   "execution_count": null,
   "id": "0a917f76",
   "metadata": {},
   "outputs": [],
   "source": [
    "# Fit using the best model.\n",
    "svm_clf = SVC(C=100, gamma=0.001, kernel='rbf')\n",
    "svm_clf.fit(X_train_norm, y_train)"
   ]
  },
  {
   "cell_type": "code",
   "execution_count": null,
   "id": "1827e3c2",
   "metadata": {},
   "outputs": [],
   "source": [
    "compute_model_metrics(svm_clf, X_test_norm, y_test)"
   ]
  },
  {
   "cell_type": "markdown",
   "id": "SHV518p_GyDo",
   "metadata": {
    "id": "SHV518p_GyDo"
   },
   "source": [
    "## KNN"
   ]
  },
  {
   "cell_type": "code",
   "execution_count": null,
   "id": "GWJmbFzMGyDp",
   "metadata": {
    "id": "GWJmbFzMGyDp"
   },
   "outputs": [],
   "source": []
  },
  {
   "cell_type": "markdown",
   "id": "FBnnfKVsGyDp",
   "metadata": {
    "id": "FBnnfKVsGyDp"
   },
   "source": [
    "## Logistic Regression"
   ]
  },
  {
   "cell_type": "code",
   "execution_count": null,
   "id": "d2PJxcWyGyDp",
   "metadata": {
    "id": "d2PJxcWyGyDp"
   },
   "outputs": [],
   "source": [
    "from sklearn.linear_model import LogisticRegression\n",
    "parameters = [\n",
    "    {'penalty': ['l2'], 'multi_class': ['multinomial'], 'solver':['lbfgs']},\n",
    "    {'penalty': ['l2'], 'multi_class': ['ovr'], 'solver':['liblinear']},\n",
    "]\n",
    "\n",
    "grid_search = GridSearchCV(\n",
    "    LogisticRegression(max_iter=100), parameters, scoring=make_scorer(accuracy_score), cv=5, n_jobs=2, return_train_score=True\n",
    ")\n",
    "grid_search.fit(X_train_norm, y_train)\n",
    "print(f'Best training accuracy with 5-fold cross validation: {grid_search.best_score_}')\n",
    "print(f'Best parameters: \\n{grid_search.best_params_}')"
   ]
  },
  {
   "cell_type": "code",
   "execution_count": null,
   "id": "df46c37c",
   "metadata": {},
   "outputs": [],
   "source": [
    "# Fit using the best model.\n",
    "\n",
    "lr_clf = LogisticRegression(penalty=\"l2\", multi_class='multinomial', C=10, max_iter=100)\n",
    "lr_clf.fit(X_train_norm, y_train)"
   ]
  },
  {
   "cell_type": "code",
   "execution_count": null,
   "id": "c9280761",
   "metadata": {},
   "outputs": [],
   "source": [
    "compute_model_metrics(lr_clf, X_test_norm, y_test)"
   ]
  },
  {
   "cell_type": "markdown",
   "id": "CmilDA85GyDp",
   "metadata": {
    "id": "CmilDA85GyDp"
   },
   "source": [
    "## Random Forest"
   ]
  },
  {
   "cell_type": "code",
   "execution_count": null,
   "id": "uyk3F5jxGyDp",
   "metadata": {
    "id": "uyk3F5jxGyDp"
   },
   "outputs": [],
   "source": []
  },
  {
   "cell_type": "code",
   "execution_count": null,
   "id": "P5Vpu1edGyDp",
   "metadata": {
    "id": "P5Vpu1edGyDp"
   },
   "outputs": [],
   "source": []
  },
  {
   "cell_type": "markdown",
   "id": "1b597ae2",
   "metadata": {
    "id": "1b597ae2"
   },
   "source": [
    "## Performance with dimensionality reduction"
   ]
  },
  {
   "cell_type": "code",
   "execution_count": null,
   "id": "20cb2220",
   "metadata": {
    "id": "20cb2220"
   },
   "outputs": [],
   "source": [
    "def test_with_pca_components(model, X_train, y_train, X_test, y_test, components_list):\n",
    "    scaler = preprocessing.StandardScaler()\n",
    "    scaler.fit(X)\n",
    "    X_train_norm = scaler.transform(X_train)\n",
    "    X_test_norm = scaler.transform(X_test)\n",
    "\n",
    "    pca = decomposition.PCA()\n",
    "    pca.fit(X_train_norm)\n",
    "    X_train_norm_pca = pca.transform(X_train_norm)\n",
    "    X_test_norm_pca = pca.transform(X_test_norm)\n",
    "\n",
    "    accuracies = []\n",
    "    for n in components_list:\n",
    "        model.fit(X_train_norm_pca[:, :n], y_train)\n",
    "        y_test_pred = model.predict(X_test_norm_pca[:, :n])\n",
    "        acc = metrics.accuracy_score(y_test, y_test_pred)\n",
    "        accuracies.append(acc)\n",
    "        print(f'Testing for {n = }, {acc = }')\n",
    "\n",
    "    return accuracies"
   ]
  },
  {
   "cell_type": "code",
   "execution_count": null,
   "id": "90b06856",
   "metadata": {
    "id": "90b06856",
    "outputId": "63f881b3-25b4-45ca-c1f3-d35d1eb1099b"
   },
   "outputs": [],
   "source": [
    "models = {\n",
    "    'svm': SVC(C=100, gamma=0.001, kernel='rbf'),\n",
    "    'knn': KNeighborsClassifier(n_neighbors=5),\n",
    "    'logistic_regression': LogisticRegression(\n",
    "        penalty=\"l2\",\n",
    "        multi_class='multinomial',\n",
    "        C=10,\n",
    "        max_iter=100\n",
    "    ),\n",
    "    'xgboost': XGBClassifier(\n",
    "        num_class=num_classes,\n",
    "        objective= 'multi:softmax',\n",
    "        learning_rate=0.1,\n",
    "        n_estimators=60,\n",
    "        max_depth=8,\n",
    "        nthread=4,\n",
    "        seed=42\n",
    "    )\n",
    "}\n",
    "\n",
    "components = [1, 2, 4, 10, 20, 40, 60, X_train.shape[1]]\n",
    "\n",
    "accuracies = {}\n",
    "for name, model in models.items():\n",
    "    print(f'Running {name}')\n",
    "    accuracies[name] = test_with_pca_components(model, X_train, y_train, X_test, y_test, components)"
   ]
  },
  {
   "cell_type": "code",
   "execution_count": null,
   "id": "c4b0588a",
   "metadata": {
    "id": "c4b0588a",
    "outputId": "de85fec9-7dfa-4073-acbf-b2f91d7e1d8f"
   },
   "outputs": [],
   "source": [
    "plt.figure()\n",
    "for name, acc in accuracies.items():\n",
    "    max_acc = max(acc)\n",
    "    plt.plot(components, acc, label=f'{name}: best acc = {max_acc: .4f}')\n",
    "\n",
    "plt.xlabel('Number of PCA components')\n",
    "plt.ylabel('Accuracy')\n",
    "plt.legend()\n",
    "plt.title('Model accuracy as a function of number of PCA components')\n",
    "plt.show()"
   ]
  },
  {
   "cell_type": "markdown",
   "id": "6557eb2a",
   "metadata": {
    "id": "6557eb2a"
   },
   "source": [
    "* XGBoost's performance degrades with PCA. It achieves 94.86 % accuracy with raw features as compared to 93.56 % with PCA features."
   ]
  },
  {
   "cell_type": "code",
   "execution_count": null,
   "id": "8e806f12",
   "metadata": {
    "id": "8e806f12"
   },
   "outputs": [],
   "source": []
  },
  {
   "cell_type": "code",
   "execution_count": null,
   "id": "21596065",
   "metadata": {
    "id": "21596065"
   },
   "outputs": [],
   "source": []
  },
  {
   "cell_type": "markdown",
   "id": "o3UjtwEaGyDp",
   "metadata": {
    "id": "o3UjtwEaGyDp"
   },
   "source": [
    "## TSNE"
   ]
  },
  {
   "cell_type": "code",
   "execution_count": null,
   "id": "5649adab",
   "metadata": {
    "id": "5649adab",
    "outputId": "25b45146-dfaf-4e64-eda4-06cf2d156d53"
   },
   "outputs": [],
   "source": [
    "def plot_tsne(X, y, n_components):\n",
    "    scaler = preprocessing.StandardScaler()\n",
    "    X = scaler.fit_transform(X)\n",
    "\n",
    "    print('Running TSNE')\n",
    "    tsne = manifold.TSNE(\n",
    "        n_components=n_components,\n",
    "        init='pca',\n",
    "        learning_rate='auto',\n",
    "        n_jobs=4,\n",
    "        random_state=0,\n",
    "    )\n",
    "    X_tsne = tsne.fit_transform(X)\n",
    "    X_list = [X_tsne[:, i] for i in range(n_components)]\n",
    "\n",
    "    if len(X_list) == 3:\n",
    "        ax = plt.axes(projection='3d')\n",
    "    else:\n",
    "        ax = plt.axes()\n",
    "    ax.scatter(*X_list, c=y)\n",
    "    ax.set_title(f'Distribution of data using TSNE with {n_components = }')\n",
    "    plt.show()\n",
    "    plt.close()\n",
    "\n",
    "plot_tsne(X_train, y_train, n_components=2)\n",
    "plot_tsne(X_train, y_train, n_components=3)"
   ]
  },
  {
   "cell_type": "code",
   "execution_count": null,
   "id": "82317466",
   "metadata": {
    "id": "82317466"
   },
   "outputs": [],
   "source": []
  }
 ],
 "metadata": {
  "colab": {
   "include_colab_link": true,
   "provenance": []
  },
  "kernelspec": {
   "display_name": "Python 3 (ipykernel)",
   "language": "python",
   "name": "python3"
  },
  "language_info": {
   "codemirror_mode": {
    "name": "ipython",
    "version": 3
   },
   "file_extension": ".py",
   "mimetype": "text/x-python",
   "name": "python",
   "nbconvert_exporter": "python",
   "pygments_lexer": "ipython3",
   "version": "3.9.18"
  },
  "varInspector": {
   "cols": {
    "lenName": 16,
    "lenType": 16,
    "lenVar": 40
   },
   "kernels_config": {
    "python": {
     "delete_cmd_postfix": "",
     "delete_cmd_prefix": "del ",
     "library": "var_list.py",
     "varRefreshCmd": "print(var_dic_list())"
    },
    "r": {
     "delete_cmd_postfix": ") ",
     "delete_cmd_prefix": "rm(",
     "library": "var_list.r",
     "varRefreshCmd": "cat(var_dic_list()) "
    }
   },
   "types_to_exclude": [
    "module",
    "function",
    "builtin_function_or_method",
    "instance",
    "_Feature"
   ],
   "window_display": false
  }
 },
 "nbformat": 4,
 "nbformat_minor": 5
}
